{
  "nbformat": 4,
  "nbformat_minor": 0,
  "metadata": {
    "colab": {
      "name": "PyTorch_FMNIST_Fashion_dataset_predicting.ipynb",
      "provenance": [],
      "collapsed_sections": []
    },
    "kernelspec": {
      "display_name": "Python 3",
      "language": "python",
      "name": "python3"
    },
    "language_info": {
      "codemirror_mode": {
        "name": "ipython",
        "version": 3
      },
      "file_extension": ".py",
      "mimetype": "text/x-python",
      "name": "python",
      "nbconvert_exporter": "python",
      "pygments_lexer": "ipython3",
      "version": "3.7.3"
    },
    "widgets": {
      "application/vnd.jupyter.widget-state+json": {
        "023d125324304c6bb0e3f8f457b1589c": {
          "model_module": "@jupyter-widgets/controls",
          "model_name": "HBoxModel",
          "state": {
            "_view_name": "HBoxView",
            "_dom_classes": [],
            "_model_name": "HBoxModel",
            "_view_module": "@jupyter-widgets/controls",
            "_model_module_version": "1.5.0",
            "_view_count": null,
            "_view_module_version": "1.5.0",
            "box_style": "",
            "layout": "IPY_MODEL_7f42eec0f0804d2dab7739fb9db8dc97",
            "_model_module": "@jupyter-widgets/controls",
            "children": [
              "IPY_MODEL_c823ac114d23491b886ab6266bfc6527",
              "IPY_MODEL_41fa17622f104b6f9cd479842a41e7a2"
            ]
          }
        },
        "5dcba67ebfb0490896e23b994e0508ab": {
          "model_module": "@jupyter-widgets/controls",
          "model_name": "HBoxModel",
          "state": {
            "_view_name": "HBoxView",
            "_dom_classes": [],
            "_model_name": "HBoxModel",
            "_view_module": "@jupyter-widgets/controls",
            "_model_module_version": "1.5.0",
            "_view_count": null,
            "_view_module_version": "1.5.0",
            "box_style": "",
            "layout": "IPY_MODEL_3d12e789160a47da8057057196686e62",
            "_model_module": "@jupyter-widgets/controls",
            "children": [
              "IPY_MODEL_246ad882e04543b38e01befd79e7b7d4",
              "IPY_MODEL_929ef22220304a6eb1943776065f8269"
            ]
          }
        },
        "27e15d4eb2f14cbcbf6d09fa545c0dfd": {
          "model_module": "@jupyter-widgets/controls",
          "model_name": "HBoxModel",
          "state": {
            "_view_name": "HBoxView",
            "_dom_classes": [],
            "_model_name": "HBoxModel",
            "_view_module": "@jupyter-widgets/controls",
            "_model_module_version": "1.5.0",
            "_view_count": null,
            "_view_module_version": "1.5.0",
            "box_style": "",
            "layout": "IPY_MODEL_acdd13e55cc2452796c33474c537dd30",
            "_model_module": "@jupyter-widgets/controls",
            "children": [
              "IPY_MODEL_b1707776bb0d46aabe55fdc372844226",
              "IPY_MODEL_07eee883b50c429caefd4ffe2b04a091"
            ]
          }
        },
        "25c027c691d44bb4b684850d96d3a03b": {
          "model_module": "@jupyter-widgets/controls",
          "model_name": "HBoxModel",
          "state": {
            "_view_name": "HBoxView",
            "_dom_classes": [],
            "_model_name": "HBoxModel",
            "_view_module": "@jupyter-widgets/controls",
            "_model_module_version": "1.5.0",
            "_view_count": null,
            "_view_module_version": "1.5.0",
            "box_style": "",
            "layout": "IPY_MODEL_d180ca2c2299485ca11d7978b448c6aa",
            "_model_module": "@jupyter-widgets/controls",
            "children": [
              "IPY_MODEL_49c66695a5414cccb07d3a49112543fb",
              "IPY_MODEL_24d6957281564a18a4d3e9c498460914"
            ]
          }
        }
      }
    }
  },
  "cells": [
    {
      "cell_type": "markdown",
      "metadata": {
        "colab_type": "text",
        "id": "gXmCHcwKs6rd"
      },
      "source": [
        "# Working with the FMNIST Fashion dataset\n"
      ]
    },
    {
      "cell_type": "code",
      "metadata": {
        "colab_type": "code",
        "id": "PzCCniVwNTdp",
        "colab": {}
      },
      "source": [
        "import torch\n",
        "# Setting seeds for reproducibility of results (two further options must be set).\n",
        "torch.manual_seed(0)\n",
        "torch.backends.cudnn.deterministic = True\n",
        "torch.backends.cudnn.benchmark = False\n",
        "\n",
        "import numpy as np\n",
        "# And for libraries using Numpy, we should seed the Numpy RNG as well.\n",
        "np.random.seed(0)"
      ],
      "execution_count": 0,
      "outputs": []
    },
    {
      "cell_type": "code",
      "metadata": {
        "colab_type": "code",
        "id": "PCJzXv0OK1Bs",
        "colab": {
          "base_uri": "https://localhost:8080/",
          "height": 35
        },
        "outputId": "c8c85813-8f4f-4085-935c-3b5debe884b3"
      },
      "source": [
        "device = torch.device('cuda' if torch.cuda.is_available() else 'cpu')\n",
        "device"
      ],
      "execution_count": 2,
      "outputs": [
        {
          "output_type": "execute_result",
          "data": {
            "text/plain": [
              "device(type='cpu')"
            ]
          },
          "metadata": {
            "tags": []
          },
          "execution_count": 2
        }
      ]
    },
    {
      "cell_type": "code",
      "metadata": {
        "colab_type": "code",
        "id": "C1tHE0p48m0d",
        "colab": {
          "base_uri": "https://localhost:8080/",
          "height": 199,
          "referenced_widgets": [
            "023d125324304c6bb0e3f8f457b1589c",
            "5dcba67ebfb0490896e23b994e0508ab",
            "27e15d4eb2f14cbcbf6d09fa545c0dfd",
            "25c027c691d44bb4b684850d96d3a03b"
          ]
        },
        "outputId": "afb4be06-792a-4591-97fc-152e40262aa3"
      },
      "source": [
        "from torchvision import datasets, transforms\n",
        "import torch.nn.functional as F\n",
        "from torch import nn\n",
        "\n",
        "mean, std = (0.5,), (0.5,)\n",
        "\n",
        "# Create a transform and normalise data.\n",
        "transform = transforms.Compose([transforms.ToTensor(),\n",
        "                                transforms.Normalize(mean, std)])\n",
        "\n",
        "# Download FMNIST training dataset and load training data.\n",
        "# 10k images of size 28x28 grayscale.\n",
        "trainset = datasets.FashionMNIST('~/.pytorch/FMNIST/', download=True, train=True, transform=transform)\n",
        "trainloader = torch.utils.data.DataLoader(trainset, batch_size=64, shuffle=True)\n",
        "\n",
        "# Download FMNIST test dataset and load test data.\n",
        "testset = datasets.FashionMNIST('~/.pytorch/FMNIST/', download=True, train=False, transform=transform)\n",
        "testloader = torch.utils.data.DataLoader(testset, batch_size=64, shuffle=False)"
      ],
      "execution_count": 3,
      "outputs": [
        {
          "output_type": "stream",
          "text": [
            "Downloading http://fashion-mnist.s3-website.eu-central-1.amazonaws.com/train-images-idx3-ubyte.gz to /root/.pytorch/FMNIST/FashionMNIST/raw/train-images-idx3-ubyte.gz\n"
          ],
          "name": "stdout"
        },
        {
          "output_type": "display_data",
          "data": {
            "application/vnd.jupyter.widget-view+json": {
              "model_id": "023d125324304c6bb0e3f8f457b1589c",
              "version_minor": 0,
              "version_major": 2
            },
            "text/plain": [
              "HBox(children=(IntProgress(value=1, bar_style='info', max=1), HTML(value='')))"
            ]
          },
          "metadata": {
            "tags": []
          }
        },
        {
          "output_type": "stream",
          "text": [
            "Extracting /root/.pytorch/FMNIST/FashionMNIST/raw/train-images-idx3-ubyte.gz to /root/.pytorch/FMNIST/FashionMNIST/raw\n",
            "Downloading http://fashion-mnist.s3-website.eu-central-1.amazonaws.com/train-labels-idx1-ubyte.gz to /root/.pytorch/FMNIST/FashionMNIST/raw/train-labels-idx1-ubyte.gz\n"
          ],
          "name": "stdout"
        },
        {
          "output_type": "display_data",
          "data": {
            "application/vnd.jupyter.widget-view+json": {
              "model_id": "5dcba67ebfb0490896e23b994e0508ab",
              "version_minor": 0,
              "version_major": 2
            },
            "text/plain": [
              "HBox(children=(IntProgress(value=1, bar_style='info', max=1), HTML(value='')))"
            ]
          },
          "metadata": {
            "tags": []
          }
        },
        {
          "output_type": "stream",
          "text": [
            "Extracting /root/.pytorch/FMNIST/FashionMNIST/raw/train-labels-idx1-ubyte.gz to /root/.pytorch/FMNIST/FashionMNIST/raw\n",
            "Downloading http://fashion-mnist.s3-website.eu-central-1.amazonaws.com/t10k-images-idx3-ubyte.gz to /root/.pytorch/FMNIST/FashionMNIST/raw/t10k-images-idx3-ubyte.gz\n"
          ],
          "name": "stdout"
        },
        {
          "output_type": "display_data",
          "data": {
            "application/vnd.jupyter.widget-view+json": {
              "model_id": "27e15d4eb2f14cbcbf6d09fa545c0dfd",
              "version_minor": 0,
              "version_major": 2
            },
            "text/plain": [
              "HBox(children=(IntProgress(value=1, bar_style='info', max=1), HTML(value='')))"
            ]
          },
          "metadata": {
            "tags": []
          }
        },
        {
          "output_type": "stream",
          "text": [
            "Extracting /root/.pytorch/FMNIST/FashionMNIST/raw/t10k-images-idx3-ubyte.gz to /root/.pytorch/FMNIST/FashionMNIST/raw\n",
            "Downloading http://fashion-mnist.s3-website.eu-central-1.amazonaws.com/t10k-labels-idx1-ubyte.gz to /root/.pytorch/FMNIST/FashionMNIST/raw/t10k-labels-idx1-ubyte.gz\n"
          ],
          "name": "stdout"
        },
        {
          "output_type": "display_data",
          "data": {
            "application/vnd.jupyter.widget-view+json": {
              "model_id": "25c027c691d44bb4b684850d96d3a03b",
              "version_minor": 0,
              "version_major": 2
            },
            "text/plain": [
              "HBox(children=(IntProgress(value=1, bar_style='info', max=1), HTML(value='')))"
            ]
          },
          "metadata": {
            "tags": []
          }
        },
        {
          "output_type": "stream",
          "text": [
            "Extracting /root/.pytorch/FMNIST/FashionMNIST/raw/t10k-labels-idx1-ubyte.gz to /root/.pytorch/FMNIST/FashionMNIST/raw\n",
            "Processing...\n",
            "Done!\n"
          ],
          "name": "stdout"
        }
      ]
    },
    {
      "cell_type": "code",
      "metadata": {
        "colab_type": "code",
        "id": "rqMqFbIVrbFH",
        "colab": {
          "base_uri": "https://localhost:8080/",
          "height": 72
        },
        "outputId": "3c98631f-7be8-4ae4-86b2-1b438e53161e"
      },
      "source": [
        "class FMNIST(nn.Module):\n",
        "    def __init__(self, inp_size, h2_size, h3_size, out_size):\n",
        "        super().__init__()\n",
        "        # Define fully connected layers.\n",
        "        self.fc1 = nn.Linear(inp_size, h2_size)\n",
        "        self.fc2 = nn.Linear(h2_size, h3_size)\n",
        "        self.fc3 = nn.Linear(h3_size, out_size)\n",
        "    \n",
        "    def forward(self, x):\n",
        "        x = x.view(x.shape[0], -1)\n",
        "\n",
        "        x = F.relu(self.fc1(x))\n",
        "        x = F.relu(self.fc2(x))\n",
        "        x = self.fc3(x)\n",
        "        x = F.log_softmax(x, dim=1)\n",
        "\n",
        "        return x\n",
        "\n",
        "model = FMNIST(28*28, 128, 64, 10)"
      ],
      "execution_count": 4,
      "outputs": [
        {
          "output_type": "stream",
          "text": [
            "\n",
            "\n",
            "\n"
          ],
          "name": "stdout"
        }
      ]
    },
    {
      "cell_type": "code",
      "metadata": {
        "colab_type": "code",
        "id": "oNNyI5YRZ7H1",
        "outputId": "f6e96ea3-a0f4-4676-8153-debe0845b21c",
        "colab": {
          "base_uri": "https://localhost:8080/",
          "height": 108
        }
      },
      "source": [
        "model.to(device)"
      ],
      "execution_count": 6,
      "outputs": [
        {
          "output_type": "execute_result",
          "data": {
            "text/plain": [
              "FMNIST(\n",
              "  (fc1): Linear(in_features=784, out_features=128, bias=True)\n",
              "  (fc2): Linear(in_features=128, out_features=64, bias=True)\n",
              "  (fc3): Linear(in_features=64, out_features=10, bias=True)\n",
              ")"
            ]
          },
          "metadata": {
            "tags": []
          },
          "execution_count": 6
        }
      ]
    },
    {
      "cell_type": "markdown",
      "metadata": {
        "id": "42uVGRgo9wKc",
        "colab_type": "text"
      },
      "source": [
        "We'll print out the train loss, the test loss and the accuracy after each epoch."
      ]
    },
    {
      "cell_type": "code",
      "metadata": {
        "colab_type": "code",
        "outputId": "cfeddbd4-00ce-4385-9f26-5330e638bb52",
        "id": "9jrg3Ush8m05",
        "colab": {
          "base_uri": "https://localhost:8080/",
          "height": 654
        }
      },
      "source": [
        "%%time\n",
        "from torch import optim\n",
        "\n",
        "criterion = nn.NLLLoss()\n",
        "# Stochastic Gradient Descent.\n",
        "optimizer = optim.SGD(model.parameters(), lr=0.01)\n",
        "\n",
        "num_epochs = 30\n",
        "\n",
        "train_loss, test_loss, scores = [], [], []\n",
        "for i in range(num_epochs):\n",
        "    total_loss = 0\n",
        "    \n",
        "    # Train the model.\n",
        "    for images, labels in trainloader:\n",
        "        # Send inputs and labels to GPU.\n",
        "        images = images.to(device)\n",
        "        labels = labels.to(device)\n",
        "        \n",
        "        optimizer.zero_grad() # set grad to zero for new batch\n",
        "        output = model(images)  # forward pass\n",
        "        loss = criterion(output, labels)\n",
        "        loss.backward()\n",
        "        optimizer.step()  # update weights\n",
        "        \n",
        "        total_loss += loss.item()\n",
        "    \n",
        "    train_loss.append(total_loss / len(trainloader))\n",
        "    print(f'Epoch({i+1}/{num_epochs}) | Training loss: {total_loss / len(trainloader)} | ', end='')\n",
        "    \n",
        "    # Score the model on test data.\n",
        "    total_loss = 0\n",
        "    num_correct, total = 0, 0    \n",
        "    for images, labels in testloader:\n",
        "        images = images.to(device)\n",
        "        labels = labels.to(device)\n",
        "        \n",
        "        logpreds = model(images)\n",
        "        batch_loss = criterion(logpreds, labels)\n",
        "        total_loss += batch_loss.item()\n",
        "        \n",
        "        output = torch.exp(logpreds)\n",
        "        preds = torch.argmax(output, 1)\n",
        "        total += labels.shape[0]\n",
        "        num_correct += (preds == labels).sum().item()\n",
        "    \n",
        "    test_loss.append(total_loss / len(testloader))\n",
        "    print(f'Test loss: {total_loss / len(testloader)} | ', end='')\n",
        "    \n",
        "    scores.append(num_correct / total)\n",
        "    print(f'Accuracy : {num_correct / total}')\n",
        "\n",
        "print(f'\\nNumber of correct predictions after 30 epochs on the test images: {num_correct}, Total : {total}')\n",
        "print(f'Accuracy of the model: {num_correct/total * 100}% ')"
      ],
      "execution_count": 7,
      "outputs": [
        {
          "output_type": "stream",
          "text": [
            "Epoch(1/30) | Training loss: 1.0330901488757083 | Test loss: 0.6478825708863082 | Accuracy : 0.7614\n",
            "Epoch(2/30) | Training loss: 0.5597467806293512 | Test loss: 0.5413924653059358 | Accuracy : 0.8039\n",
            "Epoch(3/30) | Training loss: 0.49038122942262113 | Test loss: 0.4972264877739985 | Accuracy : 0.8191\n",
            "Epoch(4/30) | Training loss: 0.4554897439219296 | Test loss: 0.4729589398499507 | Accuracy : 0.8294\n",
            "Epoch(5/30) | Training loss: 0.431036527540638 | Test loss: 0.45711538537292723 | Accuracy : 0.8353\n",
            "Epoch(6/30) | Training loss: 0.4134047719747273 | Test loss: 0.44824309134559265 | Accuracy : 0.8359\n",
            "Epoch(7/30) | Training loss: 0.3998414611003038 | Test loss: 0.4299135208129883 | Accuracy : 0.8477\n",
            "Epoch(8/30) | Training loss: 0.3880958126615614 | Test loss: 0.42925793691805214 | Accuracy : 0.8432\n",
            "Epoch(9/30) | Training loss: 0.37751554289479244 | Test loss: 0.41161088132934204 | Accuracy : 0.8525\n",
            "Epoch(10/30) | Training loss: 0.3685705816265998 | Test loss: 0.4266970374971438 | Accuracy : 0.8426\n",
            "Epoch(11/30) | Training loss: 0.3603548667530642 | Test loss: 0.4049225063270824 | Accuracy : 0.8547\n",
            "Epoch(12/30) | Training loss: 0.35288715178270075 | Test loss: 0.4440814305073137 | Accuracy : 0.8427\n",
            "Epoch(13/30) | Training loss: 0.34553696037228426 | Test loss: 0.3942126024300885 | Accuracy : 0.8604\n",
            "Epoch(14/30) | Training loss: 0.3394120558699184 | Test loss: 0.3855088618910237 | Accuracy : 0.861\n",
            "Epoch(15/30) | Training loss: 0.3335974153234506 | Test loss: 0.3833242897774763 | Accuracy : 0.8623\n",
            "Epoch(16/30) | Training loss: 0.3274514547495573 | Test loss: 0.37724075537578317 | Accuracy : 0.8665\n",
            "Epoch(17/30) | Training loss: 0.32219967362024127 | Test loss: 0.37947243869684305 | Accuracy : 0.8634\n",
            "Epoch(18/30) | Training loss: 0.31716045677693666 | Test loss: 0.38269570488838633 | Accuracy : 0.8629\n",
            "Epoch(19/30) | Training loss: 0.312146350034455 | Test loss: 0.36555958078925016 | Accuracy : 0.868\n",
            "Epoch(20/30) | Training loss: 0.3071837494495327 | Test loss: 0.3703073156867058 | Accuracy : 0.8697\n",
            "Epoch(21/30) | Training loss: 0.3018038371192621 | Test loss: 0.36086579986438627 | Accuracy : 0.8733\n",
            "Epoch(22/30) | Training loss: 0.2983965967287387 | Test loss: 0.37024022629306574 | Accuracy : 0.8663\n",
            "Epoch(23/30) | Training loss: 0.29347801720822797 | Test loss: 0.3570573049935566 | Accuracy : 0.8706\n",
            "Epoch(24/30) | Training loss: 0.2892832366277033 | Test loss: 0.35462006641800997 | Accuracy : 0.8725\n",
            "Epoch(25/30) | Training loss: 0.2856071018921668 | Test loss: 0.35212055570001055 | Accuracy : 0.8746\n",
            "Epoch(26/30) | Training loss: 0.28087387290368204 | Test loss: 0.3813025569839842 | Accuracy : 0.8655\n",
            "Epoch(27/30) | Training loss: 0.2764264485284464 | Test loss: 0.3558476233178643 | Accuracy : 0.8754\n",
            "Epoch(28/30) | Training loss: 0.2735007543887284 | Test loss: 0.35497781416033486 | Accuracy : 0.874\n",
            "Epoch(29/30) | Training loss: 0.2701009475171312 | Test loss: 0.3542097455756679 | Accuracy : 0.8744\n",
            "Epoch(30/30) | Training loss: 0.2660980946870882 | Test loss: 0.35353292040764145 | Accuracy : 0.8778\n",
            "\n",
            "Number of correct predictions after 30 epochs on the test images: 8778, Total : 10000\n",
            "Accuracy of the model: 87.78% \n",
            "CPU times: user 5min 9s, sys: 1.48 s, total: 5min 11s\n",
            "Wall time: 5min 12s\n"
          ],
          "name": "stdout"
        }
      ]
    },
    {
      "cell_type": "code",
      "metadata": {
        "colab_type": "code",
        "id": "UWYw7ZOzsS8U",
        "colab": {
          "base_uri": "https://localhost:8080/",
          "height": 283
        },
        "outputId": "6e308598-8510-495a-d88f-a9943c333db1"
      },
      "source": [
        "import matplotlib.pyplot as plt\n",
        "%matplotlib inline\n",
        "\n",
        "plt.plot(train_loss, label='Training loss')\n",
        "plt.plot(test_loss, label='Test loss')\n",
        "plt.plot(scores, label='Accuracy on test')\n",
        "plt.legend()"
      ],
      "execution_count": 8,
      "outputs": [
        {
          "output_type": "execute_result",
          "data": {
            "text/plain": [
              "<matplotlib.legend.Legend at 0x7f26d5e30860>"
            ]
          },
          "metadata": {
            "tags": []
          },
          "execution_count": 8
        },
        {
          "output_type": "display_data",
          "data": {
            "image/png": "[encoded data removed]",
            "text/plain": [
              "<Figure size 432x288 with 1 Axes>"
            ]
          },
          "metadata": {
            "tags": [],
            "needs_background": "light"
          }
        }
      ]
    },
    {
      "cell_type": "code",
      "metadata": {
        "colab_type": "code",
        "id": "h2GDhIms8m1D",
        "colab": {}
      },
      "source": [
        "images, labels = next(iter(testloader))\n",
        "\n",
        "# images batch has 64 images.\n",
        "# test_image_id = 17  # shirt\n",
        "test_image_id = 52  # sandal\n",
        "# Reshape to one row.\n",
        "img = images[test_image_id].view(1, -1) \n",
        "\n",
        "# Our image on CPU now.\n",
        "model.to('cpu')\n",
        "\n",
        "with torch.no_grad():\n",
        "    logpreds = model(img)"
      ],
      "execution_count": 0,
      "outputs": []
    },
    {
      "cell_type": "code",
      "metadata": {
        "colab_type": "code",
        "id": "kBf23XrtqrB6",
        "outputId": "732a3aae-6fe7-403f-95c8-cfa649a3a295",
        "colab": {
          "base_uri": "https://localhost:8080/",
          "height": 283
        }
      },
      "source": [
        "preds = torch.exp(logpreds)\n",
        "n_preds = preds.numpy()[0]\n",
        "FMNIST_labels = ['T-shirt/top', 'Trouser', 'Pullover', 'Dress', 'Coat',\n",
        "                 'Sandal', 'Shirt', 'Sport Shoes', 'Bag', 'Ankle Boot']\n",
        "plt.yticks(np.arange(len(FMNIST_labels)), labels=FMNIST_labels)\n",
        "plt.barh(np.arange(len(FMNIST_labels)), n_preds)"
      ],
      "execution_count": 10,
      "outputs": [
        {
          "output_type": "execute_result",
          "data": {
            "text/plain": [
              "<BarContainer object of 10 artists>"
            ]
          },
          "metadata": {
            "tags": []
          },
          "execution_count": 10
        },
        {
          "output_type": "display_data",
          "data": {
            "image/png": "[encoded data removed]",
            "text/plain": [
              "<Figure size 432x288 with 1 Axes>"
            ]
          },
          "metadata": {
            "tags": [],
            "needs_background": "light"
          }
        }
      ]
    },
    {
      "cell_type": "code",
      "metadata": {
        "colab_type": "code",
        "id": "Y7gY5hARpOp4",
        "outputId": "4d50cdaf-2301-4b57-860f-d2cbdf17616c",
        "colab": {
          "base_uri": "https://localhost:8080/",
          "height": 283
        }
      },
      "source": [
        "def denormalize(tensor):\n",
        "    tensor = tensor*0.5 + 0.5\n",
        "    return tensor\n",
        "  \n",
        "img = img.view(28, -1)\n",
        "img = denormalize(img)\n",
        "plt.imshow(img, cmap='gray')"
      ],
      "execution_count": 11,
      "outputs": [
        {
          "output_type": "execute_result",
          "data": {
            "text/plain": [
              "<matplotlib.image.AxesImage at 0x7f26d5f4d5c0>"
            ]
          },
          "metadata": {
            "tags": []
          },
          "execution_count": 11
        },
        {
          "output_type": "display_data",
          "data": {
            "image/png": "[encoded data removed]",
            "text/plain": [
              "<Figure size 432x288 with 1 Axes>"
            ]
          },
          "metadata": {
            "tags": [],
            "needs_background": "light"
          }
        }
      ]
    },
    {
      "cell_type": "code",
      "metadata": {
        "colab_type": "code",
        "id": "EDtlx2QXMdLT",
        "colab": {}
      },
      "source": [
        ""
      ],
      "execution_count": 0,
      "outputs": []
    }
  ]
}